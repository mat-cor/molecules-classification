{
 "cells": [
  {
   "cell_type": "code",
   "execution_count": 1,
   "metadata": {},
   "outputs": [],
   "source": [
    "%matplotlib inline\n",
    "\n",
    "from chemicaldatautils.frequencies import termsFrequency, termPerCompound\n",
    "from chemicaldatautils.load_data import loadDataset\n",
    "from chemicaldatautils.compute_memberships import membershipMatrix\n",
    "import matplotlib.pyplot as plt\n",
    "\n",
    "# Loading the dataset\n",
    "cids, smiles, names, formulas, terms, treeids, tset = loadDataset('Dataset.tab')"
   ]
  },
  {
   "cell_type": "markdown",
   "metadata": {},
   "source": [
    "The data set was preprocessed in order to keep only one of all the duplicated compounds (i.e. those with the same SMILES) and discarding the terms with absolute frequency <20 (if a compound was associated with only 1 term or with all terms with frequency <20, than it was excluded, otherwise only the term was excluded from the term list associated with the compound).\n",
    "\n",
    "From initial ~15'000 compounds and 489 terms, now they are: "
   ]
  },
  {
   "cell_type": "code",
   "execution_count": 2,
   "metadata": {},
   "outputs": [
    {
     "name": "stdout",
     "output_type": "stream",
     "text": [
      "10336 213\n"
     ]
    }
   ],
   "source": [
    "print(len(cids), len(tset))"
   ]
  },
  {
   "cell_type": "code",
   "execution_count": 3,
   "metadata": {},
   "outputs": [
    {
     "data": {
      "image/png": "[encoded data removed]",
      "text/plain": [
       "<matplotlib.figure.Figure at 0x7ff8b0da0d30>"
      ]
     },
     "metadata": {},
     "output_type": "display_data"
    },
    {
     "data": {
      "image/png": "[encoded data removed]",
      "text/plain": [
       "<matplotlib.figure.Figure at 0x7ff8b071c5c0>"
      ]
     },
     "metadata": {},
     "output_type": "display_data"
    }
   ],
   "source": [
    "# \"memberships\" matrix: each row represents a term, the i-th is 1/0 if the i-th compound is/isn't associated with\n",
    "# the term\n",
    "m, term_labels = membershipMatrix(tset, terms)\n",
    "\n",
    "# absolute frequency for each term (i.e. how many times the term is present in the dataset)\n",
    "frequency = termsFrequency(m)\n",
    "# number of terms associated with each compound\n",
    "terms_per_cp = termPerCompound(m)\n",
    "\n",
    "plt.figure(1)\n",
    "plt.hist(frequency, bins=20)\n",
    "plt.title(\"Terms Frequencies Distribution\")\n",
    "plt.figure(2)\n",
    "plt.hist(terms_per_cp, bins=7)\n",
    "plt.title(\"Number of Terms per Compound\")\n",
    "plt.show()"
   ]
  },
  {
   "cell_type": "code",
   "execution_count": null,
   "metadata": {},
   "outputs": [],
   "source": []
  },
  {
   "cell_type": "code",
   "execution_count": null,
   "metadata": {},
   "outputs": [],
   "source": []
  },
  {
   "cell_type": "code",
   "execution_count": null,
   "metadata": {},
   "outputs": [],
   "source": []
  },
  {
   "cell_type": "code",
   "execution_count": null,
   "metadata": {},
   "outputs": [],
   "source": []
  }
 ],
 "metadata": {
  "kernelspec": {
   "display_name": "Python 3",
   "language": "python",
   "name": "python3"
  },
  "language_info": {
   "codemirror_mode": {
    "name": "ipython",
    "version": 3
   },
   "file_extension": ".py",
   "mimetype": "text/x-python",
   "name": "python",
   "nbconvert_exporter": "python",
   "pygments_lexer": "ipython3",
   "version": "3.6.2"
  }
 },
 "nbformat": 4,
 "nbformat_minor": 2
}
