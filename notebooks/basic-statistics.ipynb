{
 "cells": [
  {
   "cell_type": "code",
   "execution_count": 1,
   "metadata": {},
   "outputs": [],
   "source": [
    "%matplotlib inline\n",
    "\n",
    "import os\n",
    "import sys\n",
    "\n",
    "preprocess_path = os.path.abspath(os.path.join('..'))\n",
    "# print(preprocess_path)\n",
    "if preprocess_path not in sys.path:\n",
    "    sys.path.append(preprocess_path)\n",
    "# sys.path"
   ]
  },
  {
   "cell_type": "code",
   "execution_count": 2,
   "metadata": {},
   "outputs": [],
   "source": [
    "from preprocess.frequencies import termsFrequency, termPerCompound\n",
    "from preprocess.load_data import loadDataset\n",
    "from preprocess.compute_memberships import membershipMatrix\n",
    "import matplotlib.pyplot as plt\n",
    "import numpy as np\n",
    "\n",
    "DATA_LOC = '../data/'\n",
    "filepath = os.path.join(DATA_LOC, 'dataset.tab')\n",
    "\n",
    "# Loading the dataset\n",
    "cids, smiles, names, formulas, terms, treeids, tset = loadDataset(filepath)"
   ]
  },
  {
   "cell_type": "markdown",
   "metadata": {},
   "source": [
    "Just to visualize some examples in the dataset (only the interesting features):"
   ]
  },
  {
   "cell_type": "code",
   "execution_count": 4,
   "metadata": {},
   "outputs": [
    {
     "name": "stdout",
     "output_type": "stream",
     "text": [
      "18499 CC[N+](C)(C)CC1=CC=CC=C1Br.[Br-] ... ['Anti-Arrhythmia Agents']\n",
      "3354 CC1=C(OC2=C(C1=O)C=CC=C2C(=O)OCCN3CCCCC3)C4=CC=CC=C4 ... ['Parasympatholytics', 'Urological Agents']\n",
      "10612083 CC1(C(N2C(S1(=O)=O)CC2=O)C(=O)O)C=CC#N ... ['beta-Lactamase Inhibitors']\n"
     ]
    }
   ],
   "source": [
    "for i in range(3):\n",
    "    print(cids[i], smiles[i], '...', terms[i])"
   ]
  },
  {
   "cell_type": "markdown",
   "metadata": {},
   "source": [
    "The data set was preprocessed in order to keep only one of all the duplicated compounds (i.e. those with the same SMILES) and discarding the terms with absolute frequency <20 (if a compound was associated with only 1 term or with all terms with frequency <20, than it was excluded, otherwise only the term was excluded from the term list associated with the compound).\n",
    "\n",
    "From initial ~15'000 compounds and 489 terms, now they are: "
   ]
  },
  {
   "cell_type": "code",
   "execution_count": 5,
   "metadata": {},
   "outputs": [
    {
     "name": "stdout",
     "output_type": "stream",
     "text": [
      "9174 191\n"
     ]
    }
   ],
   "source": [
    "print(len(cids), len(tset))"
   ]
  },
  {
   "cell_type": "code",
   "execution_count": 6,
   "metadata": {},
   "outputs": [
    {
     "data": {
      "image/png": "[encoded data removed]",
      "text/plain": [
       "<matplotlib.figure.Figure at 0x7fd45fac19b0>"
      ]
     },
     "metadata": {},
     "output_type": "display_data"
    },
    {
     "data": {
      "image/png": "[encoded data removed]",
      "text/plain": [
       "<matplotlib.figure.Figure at 0x7fd456ed0630>"
      ]
     },
     "metadata": {},
     "output_type": "display_data"
    }
   ],
   "source": [
    "# \"memberships\" matrix: each row represents a term, the i-th is 1/0 if the i-th compound is/isn't associated with\n",
    "# the term\n",
    "m, term_labels = membershipMatrix(tset, terms)\n",
    "\n",
    "# absolute frequency for each term (i.e. how many times the term is present in the dataset)\n",
    "frequency = termsFrequency(m)\n",
    "# number of terms associated with each compound\n",
    "terms_per_cp = termPerCompound(m)\n",
    "\n",
    "plt.figure(figsize=(8,8))\n",
    "plt.subplot(2,1,1)\n",
    "plt.hist(frequency, bins=20)\n",
    "plt.title(\"Terms Frequencies Distribution\")\n",
    "plt.subplot(2,1,2)\n",
    "plt.boxplot(frequency, notch=True, vert=False)\n",
    "plt.figure(figsize=(8, 4))\n",
    "plt.hist(terms_per_cp, bins=7)\n",
    "plt.title(\"Number of Terms per Compound\")\n",
    "plt.show()"
   ]
  },
  {
   "cell_type": "markdown",
   "metadata": {},
   "source": [
    "In order to build our fingerprint mapper using as input just the SMILES representation of the molecules, it's interesting to find out how many different symbols are present in the SMILES strings (size of the vocabulary)."
   ]
  },
  {
   "cell_type": "code",
   "execution_count": 8,
   "metadata": {},
   "outputs": [
    {
     "name": "stdout",
     "output_type": "stream",
     "text": [
      "V =  ['#', '(', ')', '+', '-', '.', '1', '2', '3', '4', '5', '6', '7', '8', '9', '=', 'A', 'B', 'C', 'D', 'F', 'G', 'H', 'I', 'K', 'L', 'M', 'N', 'O', 'P', 'S', 'T', 'V', 'W', 'Z', '[', ']', 'a', 'b', 'c', 'd', 'e', 'g', 'i', 'l', 'm', 'n', 'o', 'r', 's', 't', 'u', 'y']\n",
      "|V| =  53\n"
     ]
    }
   ],
   "source": [
    "charset = set()\n",
    "lengths = np.zeros((len(smiles), 1), dtype=int)\n",
    "for i in range(len(smiles)):\n",
    "    lengths[i] = len(smiles[i])\n",
    "    smiles_set = set(list(smiles[i]))\n",
    "    charset.update(smiles_set)\n",
    "\n",
    "charset = list(charset)\n",
    "charset.sort()\n",
    "print('V = ', charset)\n",
    "print('|V| = ', len(charset))"
   ]
  },
  {
   "cell_type": "code",
   "execution_count": 10,
   "metadata": {
    "scrolled": true
   },
   "outputs": [
    {
     "data": {
      "image/png": "[encoded data removed]",
      "text/plain": [
       "<matplotlib.figure.Figure at 0x7fd456ce65c0>"
      ]
     },
     "metadata": {},
     "output_type": "display_data"
    },
    {
     "name": "stdout",
     "output_type": "stream",
     "text": [
      "Min - Max - Average - Median SMILES length:  1 1021 65.8977545237 51.0\n"
     ]
    }
   ],
   "source": [
    "%matplotlib inline\n",
    "\n",
    "plt.subplot(2,1,1)\n",
    "plt.hist(lengths, bins=50)\n",
    "plt.xlabel('Length of SMILES')\n",
    "plt.ylabel('Number of strings')\n",
    "\n",
    "plt.subplot(2,1,2)\n",
    "plt.boxplot(lengths, notch=True, vert=False)\n",
    "plt.show()\n",
    "\n",
    "print('Min - Max - Average - Median SMILES length: ',lengths.min(), lengths.max(), lengths.mean(), np.median(lengths))"
   ]
  }
 ],
 "metadata": {
  "kernelspec": {
   "display_name": "Python 3",
   "language": "python",
   "name": "python3"
  },
  "language_info": {
   "codemirror_mode": {
    "name": "ipython",
    "version": 3
   },
   "file_extension": ".py",
   "mimetype": "text/x-python",
   "name": "python",
   "nbconvert_exporter": "python",
   "pygments_lexer": "ipython3",
   "version": "3.6.2"
  }
 },
 "nbformat": 4,
 "nbformat_minor": 2
}
