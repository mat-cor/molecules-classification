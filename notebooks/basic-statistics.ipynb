{
 "cells": [
  {
   "cell_type": "markdown",
   "metadata": {},
   "source": [
    "Filtering the dataset and showing some basic information about it"
   ]
  },
  {
   "cell_type": "code",
   "execution_count": 1,
   "metadata": {},
   "outputs": [],
   "source": [
    "%matplotlib inline\n",
    "import os\n",
    "import sys\n",
    "parent_path = os.path.abspath(os.path.join('..'))\n",
    "if parent_path not in sys.path:\n",
    "    sys.path.append(parent_path)"
   ]
  },
  {
   "cell_type": "code",
   "execution_count": 2,
   "metadata": {},
   "outputs": [
    {
     "name": "stdout",
     "output_type": "stream",
     "text": [
      "Columns of dataset: ['CID','SMILES','Name','Formula','Terms','TreeIds']\n",
      "Number of examples in dataset: 15474\n",
      "Number of MeSH terms: 489\n"
     ]
    }
   ],
   "source": [
    "import pickle\n",
    "import csv\n",
    "import matplotlib.pyplot as plt\n",
    "import numpy as np\n",
    "import pandas as pd\n",
    "\n",
    "from preprocess.data_handler import load_data, get_term_set\n",
    "from preprocess.preproc import filt_terms, filt_duplicates, filt_rares, terms_freq, terms_per_cp\n",
    "\n",
    "DATA = '../data/'\n",
    "rawdata = os.path.join(DATA, 'DatasetRaw.csv')\n",
    "\n",
    "d = load_data(rawdata)\n",
    "columns = (\"[\" + \",\".join([\"'%s'\" % column for column in d.columns.values]) + \"]\")\n",
    "print(\"Columns of dataset: %s\" % columns)\n",
    "print(\"Number of examples in dataset: %s\" % str(d.shape[0]))\n",
    "print(\"Number of MeSH terms: %s\" % len(get_term_set(d['Terms'])))"
   ]
  },
  {
   "cell_type": "markdown",
   "metadata": {},
   "source": [
    "Filtering: only compounds annotated with \"Pharmacologic Actions\" MeSH terms ('D27.505' branch) are kept, duplicated examples (with same SMILES) are excluded, as well as terms with absolute frequency < 20"
   ]
  },
  {
   "cell_type": "code",
   "execution_count": 18,
   "metadata": {},
   "outputs": [
    {
     "name": "stdout",
     "output_type": "stream",
     "text": [
      "Number of examples after filtering: 9174\n",
      "Number of MeSH terms: 191\n"
     ]
    }
   ],
   "source": [
    "d = filt_terms(d, 'D27.505')\n",
    "d = filt_duplicates(d)\n",
    "d = filt_rares(d, 20)\n",
    "\n",
    "print(\"Number of examples after filtering: %s\" % str(d.shape[0]))\n",
    "print(\"Number of MeSH terms: %s\" % len(get_term_set(d['Terms'])))"
   ]
  },
  {
   "cell_type": "markdown",
   "metadata": {},
   "source": [
    "Visualize some examples in the dataset:"
   ]
  },
  {
   "cell_type": "code",
   "execution_count": 19,
   "metadata": {},
   "outputs": [
    {
     "name": "stdout",
     "output_type": "stream",
     "text": [
      "1 CC(=O)OC(CC(=O)[O-])C[N+](C)(C)C ... ['Nootropic Agents', 'Vitamin B Complex'] ['D27.505.954.427.637', 'D27.505.696.377.605.600.708']\n",
      "19 C1=CC(=C(C(=C1)O)O)C(=O)O ... ['Iron Chelating Agents'] ['D27.505.519.914.500.410']\n",
      "72 C1=CC(=C(C=C1C(=O)O)O)O ... ['Anticarcinogenic Agents'] ['D27.505.696.706.018', 'D27.505.954.248.125']\n"
     ]
    }
   ],
   "source": [
    "for i in range(3):\n",
    "    print(d.at[i, 'CID'], d.at[i, 'SMILES'], '...', d.at[i, 'Terms'], d.at[i, 'TreeIds'])"
   ]
  },
  {
   "cell_type": "code",
   "execution_count": 6,
   "metadata": {},
   "outputs": [
    {
     "data": {
      "image/png": "[encoded data removed]",
      "text/plain": [
       "<matplotlib.figure.Figure at 0x7f6ea90469e8>"
      ]
     },
     "metadata": {},
     "output_type": "display_data"
    },
    {
     "data": {
      "image/png": "[encoded data removed]",
      "text/plain": [
       "<matplotlib.figure.Figure at 0x7f6ea8f47278>"
      ]
     },
     "metadata": {},
     "output_type": "display_data"
    }
   ],
   "source": [
    "# Terms frequencies\n",
    "frequency = terms_freq(d['Terms']).values()\n",
    "# number of terms associated with each compound\n",
    "t_per_cp = terms_per_cp(d).values()\n",
    "\n",
    "plt.figure(figsize=(8,8))\n",
    "plt.subplot(2,1,1)\n",
    "plt.hist(frequency, bins=20)\n",
    "plt.title(\"Terms Frequencies Distribution\")\n",
    "plt.subplot(2,1,2)\n",
    "plt.boxplot(frequency, notch=True, vert=False)\n",
    "plt.figure(figsize=(8, 4))\n",
    "plt.hist(t_per_cp, bins=7)\n",
    "plt.title(\"Number of Terms per Compound\")\n",
    "plt.show()"
   ]
  },
  {
   "cell_type": "markdown",
   "metadata": {},
   "source": [
    "In order to build our fingerprint embedder, it's interesting to visualize some properties of the SMILES strings present in the dataset"
   ]
  },
  {
   "cell_type": "code",
   "execution_count": 10,
   "metadata": {},
   "outputs": [
    {
     "name": "stdout",
     "output_type": "stream",
     "text": [
      "V =  ['#', '(', ')', '+', '-', '.', '1', '2', '3', '4', '5', '6', '7', '8', '9', '=', 'A', 'B', 'C', 'D', 'E', 'F', 'G', 'H', 'I', 'K', 'L', 'M', 'N', 'O', 'P', 'R', 'S', 'T', 'U', 'V', 'W', 'X', 'Z', '[', ']', 'a', 'b', 'c', 'd', 'e', 'g', 'h', 'i', 'l', 'm', 'n', 'o', 'r', 's', 't', 'u', 'y']\n",
      "|V| =  58\n"
     ]
    }
   ],
   "source": [
    "charset = set()\n",
    "lengths = np.zeros((len(d['SMILES']), 1), dtype=int)\n",
    "for i, smiles in enumerate(d['SMILES']):\n",
    "    lengths[i] = len(smiles)\n",
    "    smiles_set = set(list(smiles))\n",
    "    charset.update(smiles_set)\n",
    "\n",
    "charset = list(charset)\n",
    "charset.sort()\n",
    "print('V = ', charset)\n",
    "print('|V| = ', len(charset))"
   ]
  },
  {
   "cell_type": "code",
   "execution_count": 11,
   "metadata": {
    "scrolled": true
   },
   "outputs": [
    {
     "data": {
      "image/png": "[encoded data removed]",
      "text/plain": [
       "<matplotlib.figure.Figure at 0x7f6ea8cf6ac8>"
      ]
     },
     "metadata": {},
     "output_type": "display_data"
    },
    {
     "name": "stdout",
     "output_type": "stream",
     "text": [
      "Min - Max - Average - Median SMILES length:  1 1021 67.3561457929 52.0\n"
     ]
    }
   ],
   "source": [
    "plt.subplot(2,1,1)\n",
    "plt.hist(lengths, bins=50)\n",
    "plt.xlabel('Length of SMILES')\n",
    "plt.ylabel('Number of strings')\n",
    "\n",
    "plt.subplot(2,1,2)\n",
    "plt.boxplot(lengths, notch=True, vert=False)\n",
    "plt.show()\n",
    "\n",
    "print('Min - Max - Average - Median SMILES length: ',lengths.min(), lengths.max(), lengths.mean(), np.median(lengths))"
   ]
  }
 ],
 "metadata": {
  "kernelspec": {
   "display_name": "Python 3",
   "language": "python",
   "name": "python3"
  },
  "language_info": {
   "codemirror_mode": {
    "name": "ipython",
    "version": 3
   },
   "file_extension": ".py",
   "mimetype": "text/x-python",
   "name": "python",
   "nbconvert_exporter": "python",
   "pygments_lexer": "ipython3",
   "version": "3.6.2"
  }
 },
 "nbformat": 4,
 "nbformat_minor": 2
}
