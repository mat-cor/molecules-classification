{
 "cells": [
  {
   "cell_type": "markdown",
   "metadata": {},
   "source": [
    "### Comparison between CNNFP and ECFP\n",
    "\n",
    "Logistic Regression using CNNFP and ECFP, for n-terms binary classification (one-VS-all) problems. Performances evaluated using 10-fold Cross Validated AUC."
   ]
  },
  {
   "cell_type": "code",
   "execution_count": 1,
   "metadata": {},
   "outputs": [
    {
     "name": "stderr",
     "output_type": "stream",
     "text": [
      "Using TensorFlow backend.\n"
     ]
    },
    {
     "name": "stdout",
     "output_type": "stream",
     "text": [
      "Embedding smiles...\n",
      "Embedding complete - 4.079897165298462 seconds, 9174 smiles\n"
     ]
    }
   ],
   "source": [
    "import os\n",
    "import sys\n",
    "parent_path = os.path.abspath(os.path.join('..'))\n",
    "if parent_path not in sys.path:\n",
    "    sys.path.append(parent_path)\n",
    "\n",
    "import datetime\n",
    "import csv\n",
    "import numpy as np\n",
    "\n",
    "from sklearn.linear_model import LogisticRegression\n",
    "from sklearn.model_selection import cross_val_score\n",
    "\n",
    "from preprocess.data_handler import load_data, categorical_labels, load_pickle\n",
    "from preprocess.smiles_embedder import get_cnn_fingerprint\n",
    "\n",
    "import tensorflow as tf\n",
    "from keras import backend as K\n",
    "\n",
    "# Loading data\n",
    "path = '../data/'\n",
    "termdict = load_pickle(path+'termdict.pickle')\n",
    "dataset = load_data(path+'dataset.csv')\n",
    "smiles = dataset['SMILES']\n",
    "labels = categorical_labels(dataset['Terms'], termdict)\n",
    "\n",
    "# CNN embedding\n",
    "cnn_fp_data = get_cnn_fingerprint(smiles)"
   ]
  },
  {
   "cell_type": "code",
   "execution_count": 2,
   "metadata": {},
   "outputs": [],
   "source": [
    "# Load ECFP fingerprints and labels\n",
    "ecfp_d = load_pickle('../data/ecfp-data.pickle')\n",
    "ecfp_l = load_pickle('../data/ecfp-labels.pickle')\n",
    "ecfp_data, ecfp_labels = [], []\n",
    "for cid in sorted(ecfp_d.keys()):\n",
    "    ecfp_data.append(ecfp_d[cid])\n",
    "    ecfp_labels.append(ecfp_l[cid])\n",
    "ecfp_data = np.array(ecfp_data)\n",
    "ecfp_labels = np.array(ecfp_labels)"
   ]
  },
  {
   "cell_type": "markdown",
   "metadata": {},
   "source": [
    "10-fold CV for binary classification for each term. Only the first 10 terms are showed as an example, spreadsheet with complete results [here](https://docs.google.com/spreadsheets/d/1jQb9JPWqfxbhlN5P0_UiaNMoUKFBfXTwrfCdsTz0_Xs/edit?usp=sharing)."
   ]
  },
  {
   "cell_type": "code",
   "execution_count": 4,
   "metadata": {},
   "outputs": [
    {
     "name": "stdout",
     "output_type": "stream",
     "text": [
      "Term\tCNNFP\tECFP\n",
      "5-alpha Reductase Inhibitors\t0.999626185266\t0.957731143392\n",
      "Adjuvants, Anesthesia\t0.980391181953\t0.964977661844\n",
      "Adjuvants, Immunologic\t0.996582366921\t0.827809812083\n",
      "Adrenergic Agents\t0.999626514092\t0.977944930708\n",
      "Adrenergic Uptake Inhibitors\t0.999652941911\t0.952155247785\n",
      "Adrenergic alpha-1 Receptor Antagonists\t0.999945295405\t0.987745851119\n",
      "Adrenergic alpha-2 Receptor Agonists\t0.998869557939\t0.962814147864\n",
      "Adrenergic alpha-Agonists\t0.99982475356\t0.973018461405\n",
      "Adrenergic alpha-Antagonists\t0.998239899539\t0.950806465262\n",
      "Adrenergic beta-1 Receptor Agonists\t0.999726954924\t0.978087551006\n"
     ]
    }
   ],
   "source": [
    "terms = sorted(list(termdict.keys()))\n",
    "print('%s\\t%s\\t%s' % ('Term', 'CNNFP', 'ECFP'))\n",
    "\n",
    "for t in terms[0:10]:\n",
    "   \n",
    "    y = labels[:, termdict[t]]\n",
    "    y_ecfp = ecfp_labels[:, termdict[t]]\n",
    "\n",
    "    logreg = LogisticRegression()\n",
    "\n",
    "    auc_cnnfp = cross_val_score(logreg, cnn_fp_data, y, cv=10, scoring='roc_auc', n_jobs=-1)\n",
    "    auc_ecfp = cross_val_score(logreg, ecfp_data, y_ecfp, cv=10, scoring='roc_auc', n_jobs=-1)\n",
    "\n",
    "    print('%s\\t%s\\t%s' % (t, auc_cnnfp.mean(), auc_ecfp.mean()))"
   ]
  }
 ],
 "metadata": {
  "kernelspec": {
   "display_name": "tensorflow",
   "language": "python",
   "name": "tensorflow"
  },
  "language_info": {
   "codemirror_mode": {
    "name": "ipython",
    "version": 3
   },
   "file_extension": ".py",
   "mimetype": "text/x-python",
   "name": "python",
   "nbconvert_exporter": "python",
   "pygments_lexer": "ipython3",
   "version": "3.5.2"
  }
 },
 "nbformat": 4,
 "nbformat_minor": 2
}
