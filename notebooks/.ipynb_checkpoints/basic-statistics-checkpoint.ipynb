{
 "cells": [
  {
   "cell_type": "code",
   "execution_count": 3,
   "metadata": {},
   "outputs": [],
   "source": [
    "%matplotlib inline\n",
    "\n",
    "import os\n",
    "import sys\n",
    "\n",
    "preprocess_path = os.path.abspath(os.path.join('..'))\n",
    "# print(preprocess_path)\n",
    "if preprocess_path not in sys.path:\n",
    "    sys.path.append(preprocess_path)\n",
    "# sys.path"
   ]
  },
  {
   "cell_type": "code",
   "execution_count": 4,
   "metadata": {},
   "outputs": [],
   "source": [
    "from preprocess.frequencies import termsFrequency, termPerCompound\n",
    "from preprocess.load_data import loadDataset\n",
    "from preprocess.compute_memberships import membershipMatrix\n",
    "import matplotlib.pyplot as plt\n",
    "\n",
    "DATA_LOC = '../data/'\n",
    "filepath = os.path.join(DATA_LOC, 'dataset.tab')\n",
    "\n",
    "# Loading the dataset\n",
    "cids, smiles, names, formulas, terms, treeids, tset = loadDataset(filepath)"
   ]
  },
  {
   "cell_type": "markdown",
   "metadata": {},
   "source": [
    "Just to visualize some examples in the dataset (only the interesting features):"
   ]
  },
  {
   "cell_type": "code",
   "execution_count": 5,
   "metadata": {},
   "outputs": [
    {
     "name": "stdout",
     "output_type": "stream",
     "text": [
      "5280427 CCCCCC(C=CC1C(CC2C1CC(=CCCCC(=O)O)O2)O)O ... ['Platelet Aggregation Inhibitors', 'Antihypertensive Agents']\n",
      "73417083 CCOC(=O)C1=C(NC(=C(C1C2=C(C(=CC=C2)Cl)Cl)C(=O)OC)C)C.CCOC(=O)C1=C(NC(=C(C1C2=C(C(=CC=C2)Cl)Cl)C(=O)OC)C)C ... ['Vasodilator Agents', 'Calcium Channel Blockers', 'Antihypertensive Agents', 'Anti-Arrhythmia Agents']\n",
      "10031812 CCC(COC(=O)C1=CC(=C(C(=C1)OC)OC)OC)N(C)CCN(C)C(CC)COC(=O)C2=CC(=C(C(=C2)OC)OC)OC ... ['Anti-Arrhythmia Agents']\n",
      "3081544 CNC1C(C2C(CC(C(O2)OC3C(CC(C(C3O)O)N)N)N)OC1OC4C(C(C(C(O4)CO)N)O)O)O.OS(=O)(=O)O ... ['Anti-Bacterial Agents']\n",
      "439520 CC(CCC(=O)O)C1CCC2C1(C(CC3C2C(CC4C3(CCC(C4)O)C)O)O)C ... ['Gastrointestinal Agents']\n"
     ]
    }
   ],
   "source": [
    "for i in range(5):\n",
    "    print(cids[i], smiles[i], '...', terms[i])"
   ]
  },
  {
   "cell_type": "markdown",
   "metadata": {},
   "source": [
    "The data set was preprocessed in order to keep only one of all the duplicated compounds (i.e. those with the same SMILES) and discarding the terms with absolute frequency <20 (if a compound was associated with only 1 term or with all terms with frequency <20, than it was excluded, otherwise only the term was excluded from the term list associated with the compound).\n",
    "\n",
    "From initial ~15'000 compounds and 489 terms, now they are: "
   ]
  },
  {
   "cell_type": "code",
   "execution_count": 6,
   "metadata": {},
   "outputs": [
    {
     "name": "stdout",
     "output_type": "stream",
     "text": [
      "10336 213\n"
     ]
    }
   ],
   "source": [
    "print(len(cids), len(tset))"
   ]
  },
  {
   "cell_type": "code",
   "execution_count": 7,
   "metadata": {},
   "outputs": [
    {
     "data": {
      "image/png": "[encoded data removed]",
      "text/plain": [
       "<matplotlib.figure.Figure at 0x7f04960a6c88>"
      ]
     },
     "metadata": {},
     "output_type": "display_data"
    },
    {
     "data": {
      "image/png": "[encoded data removed]",
      "text/plain": [
       "<matplotlib.figure.Figure at 0x7f048d1425c0>"
      ]
     },
     "metadata": {},
     "output_type": "display_data"
    }
   ],
   "source": [
    "# \"memberships\" matrix: each row represents a term, the i-th is 1/0 if the i-th compound is/isn't associated with\n",
    "# the term\n",
    "m, term_labels = membershipMatrix(tset, terms)\n",
    "\n",
    "# absolute frequency for each term (i.e. how many times the term is present in the dataset)\n",
    "frequency = termsFrequency(m)\n",
    "# number of terms associated with each compound\n",
    "terms_per_cp = termPerCompound(m)\n",
    "\n",
    "plt.figure(figsize=(8,8))\n",
    "plt.subplot(2,1,1)\n",
    "plt.hist(frequency, bins=20)\n",
    "plt.title(\"Terms Frequencies Distribution\")\n",
    "plt.subplot(2,1,2)\n",
    "plt.boxplot(frequency, notch=True, vert=False)\n",
    "plt.figure(figsize=(8, 4))\n",
    "plt.hist(terms_per_cp, bins=7)\n",
    "plt.title(\"Number of Terms per Compound\")\n",
    "plt.show()"
   ]
  },
  {
   "cell_type": "markdown",
   "metadata": {},
   "source": [
    "From the second histogram it's clear that many compounds are associated with more than one MeSH term. In order to decide how to deal with it, it could be interested to find out how many different \"groups\" of terms are present:"
   ]
  },
  {
   "cell_type": "code",
   "execution_count": 8,
   "metadata": {},
   "outputs": [
    {
     "name": "stdout",
     "output_type": "stream",
     "text": [
      "1556\n"
     ]
    }
   ],
   "source": [
    "term_groups = []\n",
    "\n",
    "for t_list in terms:  # terms is a list containing the lists of terms associated to each compound\n",
    "    if t_list not in term_groups:\n",
    "        term_groups.append(t_list)\n",
    "\n",
    "print(len(term_groups))"
   ]
  },
  {
   "cell_type": "markdown",
   "metadata": {},
   "source": [
    "That is a high number, so it would be better using only the 213 terms as classes\n",
    "\n",
    "In order to build our fingerprint mapper using as input just the SMILES representation of the molecules, it's interesting to find out how many different symbols are present in the SMILES strings (size of the vocabulary)."
   ]
  },
  {
   "cell_type": "code",
   "execution_count": 9,
   "metadata": {},
   "outputs": [
    {
     "name": "stdout",
     "output_type": "stream",
     "text": [
      "V =  ['#', '(', ')', '+', '-', '.', '1', '2', '3', '4', '5', '6', '7', '8', '9', '=', 'A', 'B', 'C', 'D', 'F', 'G', 'H', 'I', 'K', 'L', 'M', 'N', 'O', 'P', 'R', 'S', 'T', 'U', 'V', 'W', 'Z', '[', ']', 'a', 'b', 'c', 'd', 'e', 'g', 'h', 'i', 'l', 'm', 'n', 'o', 'r', 's', 't', 'u', 'y']\n",
      "|V| =  56\n"
     ]
    }
   ],
   "source": [
    "import numpy as np\n",
    "\n",
    "charset = set()\n",
    "lengths = np.zeros((len(smiles), 1), dtype=int)\n",
    "for i in range(len(smiles)):\n",
    "    lengths[i] = len(smiles[i])\n",
    "    smiles_set = set(list(smiles[i]))\n",
    "    charset.update(smiles_set)\n",
    "\n",
    "charset = list(charset)\n",
    "charset.sort()\n",
    "print('V = ', charset)\n",
    "print('|V| = ', len(charset))"
   ]
  },
  {
   "cell_type": "code",
   "execution_count": 27,
   "metadata": {
    "scrolled": true
   },
   "outputs": [
    {
     "data": {
      "image/png": "[encoded data removed]",
      "text/plain": [
       "<matplotlib.figure.Figure at 0x7f048d07ed68>"
      ]
     },
     "metadata": {},
     "output_type": "display_data"
    },
    {
     "name": "stdout",
     "output_type": "stream",
     "text": [
      "Min - Max - Average - Median SMILES length:  1 1021 64.6667956656 50.0\n",
      "Number of SMILES len > 200:  272\n",
      "Number of SMILES len > 400:  102\n",
      "Number of SMILES len > 600:  46\n",
      "Number of SMILES len < 20:  611\n",
      "Number of SMILES len < 10:  110\n"
     ]
    }
   ],
   "source": [
    "%matplotlib inline\n",
    "\n",
    "plt.subplot(2,1,1)\n",
    "plt.hist(lengths, bins=50)\n",
    "plt.xlabel('Length of SMILES')\n",
    "plt.ylabel('Number of strings')\n",
    "\n",
    "plt.subplot(2,1,2)\n",
    "plt.boxplot(lengths, notch=True, vert=False)\n",
    "plt.show()\n",
    "\n",
    "print('Min - Max - Average - Median SMILES length: ',lengths.min(), lengths.max(), lengths.mean(), np.median(lengths))\n",
    "print('Number of SMILES with len > 200: ', len(np.where(lengths>200)[0]))\n",
    "print('Number of SMILES with len > 400: ', len(np.where(lengths>400)[0]))\n",
    "print('Number of SMILES with len > 600: ', len(np.where(lengths>600)[0]))\n",
    "print('Number of SMILES with len < 20: ', len(np.where(lengths<20)[0]))\n",
    "print('Number of SMILES with len < 10: ', len(np.where(lengths<10)[0]))"
   ]
  }
 ],
 "metadata": {
  "kernelspec": {
   "display_name": "Python 3",
   "language": "python",
   "name": "python3"
  },
  "language_info": {
   "codemirror_mode": {
    "name": "ipython",
    "version": 3
   },
   "file_extension": ".py",
   "mimetype": "text/x-python",
   "name": "python",
   "nbconvert_exporter": "python",
   "pygments_lexer": "ipython3",
   "version": "3.6.2"
  }
 },
 "nbformat": 4,
 "nbformat_minor": 2
}
