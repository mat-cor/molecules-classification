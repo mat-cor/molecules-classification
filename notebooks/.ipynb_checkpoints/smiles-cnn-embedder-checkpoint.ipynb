{
 "cells": [
  {
   "cell_type": "markdown",
   "metadata": {},
   "source": [
    "### CNN-based embedding (fingerprinting)\n",
    "\n",
    "CNN for embedding (fingerprinting) molecules, trained on the multi-label classification of pharmacologic action MeSH terms.\n",
    "\n",
    "The input to the net are SMILES, string notation of the molecules, that are converted in sequences of integers - representing key for each symbol in a vocabulary. The sequences are then embedded in a dense vector representation, on which the concolution is applied.\n",
    "The vocabulary was built accordingly to the [openSMILES specification](http://opensmiles.org/opensmiles.html), so that the model can represent every possible SMILES and not only the ones in the dataset used for training.\n",
    "\n",
    "The output of the penultimate layer of the net represents the fingerprint, a 512-long real-valued vector."
   ]
  },
  {
   "cell_type": "code",
   "execution_count": 1,
   "metadata": {},
   "outputs": [
    {
     "name": "stderr",
     "output_type": "stream",
     "text": [
      "Using TensorFlow backend.\n"
     ]
    }
   ],
   "source": [
    "import os\n",
    "import sys\n",
    "parent_path = os.path.abspath(os.path.join('..'))\n",
    "if parent_path not in sys.path:\n",
    "    sys.path.append(parent_path)\n",
    "    \n",
    "import pickle\n",
    "import tensorflow as tf\n",
    "\n",
    "from keras.preprocessing.sequence import pad_sequences\n",
    "from keras.models import Sequential, Model, load_model\n",
    "from keras.layers import Convolution1D, MaxPooling1D, Dropout, Dense, Flatten\n",
    "from keras.layers.embeddings import Embedding\n",
    "from keras import backend as K\n",
    "\n",
    "from preprocess.data_handler import load_data, load_pickle, categorical_labels"
   ]
  },
  {
   "cell_type": "markdown",
   "metadata": {},
   "source": [
    "Loading dataset, a dictionary for converting terms to categorical labels and the vocabulary for turning SMILES into sequences of integers."
   ]
  },
  {
   "cell_type": "code",
   "execution_count": 2,
   "metadata": {},
   "outputs": [
    {
     "name": "stdout",
     "output_type": "stream",
     "text": [
      "_________________________________________________________________\n",
      "Layer (type)                 Output Shape              Param #   \n",
      "=================================================================\n",
      "embedding_1 (Embedding)      (None, 1021, 64)          4544      \n",
      "_________________________________________________________________\n",
      "conv1d_1 (Conv1D)            (None, 1019, 32)          6176      \n",
      "_________________________________________________________________\n",
      "max_pooling1d_1 (MaxPooling1 (None, 509, 32)           0         \n",
      "_________________________________________________________________\n",
      "conv1d_2 (Conv1D)            (None, 507, 32)           3104      \n",
      "_________________________________________________________________\n",
      "max_pooling1d_2 (MaxPooling1 (None, 253, 32)           0         \n",
      "_________________________________________________________________\n",
      "dropout_1 (Dropout)          (None, 253, 32)           0         \n",
      "_________________________________________________________________\n",
      "flatten_1 (Flatten)          (None, 8096)              0         \n",
      "_________________________________________________________________\n",
      "dense_1 (Dense)              (None, 512)               4145664   \n",
      "_________________________________________________________________\n",
      "dropout_2 (Dropout)          (None, 512)               0         \n",
      "_________________________________________________________________\n",
      "dense_2 (Dense)              (None, 191)               97983     \n",
      "=================================================================\n",
      "Total params: 4,257,471\n",
      "Trainable params: 4,257,471\n",
      "Non-trainable params: 0\n",
      "_________________________________________________________________\n",
      "None\n"
     ]
    }
   ],
   "source": [
    "DATA_LOC = '../data/'\n",
    "termdict = load_pickle(DATA_LOC+'termdict.pickle')\n",
    "vocabulary = load_pickle(DATA_LOC+'smiles_vocabulary.pickle')\n",
    "dataset = load_data(DATA_LOC+'dataset.csv')\n",
    "smiles = dataset['SMILES']\n",
    "\n",
    "seqs = [[vocabulary[c] for c in list(s)] for s in smiles]\n",
    "X = pad_sequences(seqs, padding='post')\n",
    "y = categorical_labels(dataset['Terms'], termdict)\n",
    "\n",
    "sequence_length = X.shape[1]\n",
    "vocabulary_size = len(vocabulary)\n",
    "n_class = y.shape[1]\n",
    "embedding_size = 64\n",
    "\n",
    "# Model\n",
    "model = Sequential()\n",
    "model.add(Embedding(output_dim=embedding_size, input_dim=vocabulary_size,\n",
    "                    input_length=sequence_length))\n",
    "model.add(Convolution1D(32, 3, activation='relu'))\n",
    "model.add(MaxPooling1D(pool_size=2))\n",
    "model.add(Convolution1D(32, 3, activation='relu'))\n",
    "model.add(MaxPooling1D(pool_size=2))\n",
    "model.add(Dropout(0.25))\n",
    "\n",
    "model.add(Flatten())\n",
    "model.add(Dense(512, activation='relu'))\n",
    "model.add(Dropout(0.5))\n",
    "model.add(Dense(n_class, activation='sigmoid'))\n",
    "model.compile(loss='binary_crossentropy', optimizer='adam', metrics=['accuracy'])\n",
    "print(model.summary())\n",
    "\n",
    "# ## Model trained on Titan GPU\n",
    "# # model.fit(X, y, epochs=100, batch_size=64, verbose=1)\n",
    "# # model.save('fp-embedder.h5')"
   ]
  },
  {
   "cell_type": "markdown",
   "metadata": {},
   "source": [
    "Input representation and output fingerprint for a SMILES"
   ]
  },
  {
   "cell_type": "code",
   "execution_count": 7,
   "metadata": {},
   "outputs": [
    {
     "name": "stdout",
     "output_type": "stream",
     "text": [
      "SMILES:  CC(=O)OC(CC(=O)[O-])C[N+](C)(C)C\n",
      "Sequence:  [26 26  4 ...,  0  0  0]\n",
      "Embedded sequence:\n",
      " [[ 0.03640511  0.11953979  0.13228315 ..., -0.24824536  0.31792849\n",
      "  -0.29289258]\n",
      " [ 0.03640511  0.11953979  0.13228315 ..., -0.24824536  0.31792849\n",
      "  -0.29289258]\n",
      " [ 0.08647189  0.10602581  0.02729583 ...,  0.11304798  0.19153979\n",
      "   0.28203148]\n",
      " ..., \n",
      " [ 0.06509708 -0.01844917 -0.06520764 ...,  0.03294779 -0.05305507\n",
      "   0.01718416]\n",
      " [ 0.06509708 -0.01844917 -0.06520764 ...,  0.03294779 -0.05305507\n",
      "   0.01718416]\n",
      " [ 0.06509708 -0.01844917 -0.06520764 ...,  0.03294779 -0.05305507\n",
      "   0.01718416]]\n"
     ]
    }
   ],
   "source": [
    "fp_model = load_model('../analysis/fp-embedder.h5')\n",
    "seq_embedder = Model(inputs=fp_model.input, outputs=fp_model.layers[0].output)\n",
    "emb = seq_embedder.predict(X[0:1], batch_size=1000) \n",
    "\n",
    "print('SMILES: ', smiles[0])\n",
    "print('Sequence: ', X[0])\n",
    "print('Embedded sequence:\\n', emb[0])\n",
    "# print('Fingerprint: ', fp[0])"
   ]
  },
  {
   "cell_type": "code",
   "execution_count": 8,
   "metadata": {},
   "outputs": [
    {
     "name": "stdout",
     "output_type": "stream",
     "text": [
      "Fingerprint:\n",
      " [ 0.          0.          0.          0.28545275  0.          0.\n",
      "  1.20412922  0.          0.          0.          0.10057554  0.          0.1966182\n",
      "  3.41473317  0.          0.          1.57863247  0.          0.\n",
      "  0.43136638  0.          0.          1.05833948  0.          0.          0.\n",
      "  0.          0.          0.          0.          0.          0.\n",
      "  0.92761707  0.          0.          0.0114923   0.          0.          0.\n",
      "  0.          0.          0.          0.          0.          0.          0.\n",
      "  0.          0.          0.          0.          0.          0.          0.\n",
      "  0.          2.04378629  1.98045826  0.          0.          0.          0.\n",
      "  0.          0.          0.          0.42110276  0.          0.          0.\n",
      "  0.          0.          0.          0.          0.          0.          0.\n",
      "  0.          0.          1.47133362  0.          0.          0.          0.\n",
      "  0.          0.          2.79303241  0.          0.29305971  0.          0.\n",
      "  0.          0.          0.57498878  0.8651374   0.          0.\n",
      "  0.34346354  0.          0.          0.          0.          0.          0.\n",
      "  0.          0.          0.          0.          0.          2.04996276\n",
      "  0.          0.          0.          0.          0.          0.          0.\n",
      "  3.56613588  0.11511347  0.          0.          0.          0.          0.\n",
      "  1.38061786  4.13361216  0.          0.          0.          0.          0.\n",
      "  0.          0.          0.          0.          0.          0.          0.\n",
      "  0.60717821  0.          0.          0.          0.          0.          0.\n",
      "  0.          0.          0.          0.          0.          0.          0.\n",
      "  0.          0.          0.          0.          0.          0.          0.\n",
      "  0.          0.          0.          0.          0.          0.\n",
      "  2.86640453  0.          0.          0.          0.          0.          0.\n",
      "  0.          0.          0.          0.          0.          0.          0.\n",
      "  0.78563774  0.          0.          0.          0.          0.16784647\n",
      "  0.          2.25047159  0.          0.          0.          0.          0.\n",
      "  0.          0.          0.          0.          0.          0.          0.\n",
      "  0.43251252  0.95453501  0.          0.          0.          0.          0.\n",
      "  0.          0.          0.          0.          0.          2.2436614   0.\n",
      "  0.          0.          0.          0.          0.          0.          0.\n",
      "  0.          1.88820136  0.          0.          0.          0.          0.\n",
      "  0.          0.          0.          2.09845567  0.          0.\n",
      "  1.27376437  0.          0.          0.          0.          0.          0.\n",
      "  0.          0.          0.          0.48434341  0.          0.          0.\n",
      "  0.          0.          0.          0.          0.          0.          0.\n",
      "  0.          0.          0.          0.          0.32158408  0.9436053   0.\n",
      "  0.          0.          0.32615232  0.          2.10372925  0.          0.\n",
      "  0.          0.          1.51793993  0.          0.          0.          0.\n",
      "  0.          0.          0.          0.          0.          0.          0.\n",
      "  0.          0.          0.          0.          0.          0.          0.\n",
      "  0.          0.          0.          0.          0.          0.          0.\n",
      "  0.82523328  0.          0.          0.          0.58652437  0.          0.\n",
      "  0.          0.          0.          0.          0.          0.          0.\n",
      "  0.          0.          0.          0.          0.          0.          0.\n",
      "  1.04448545  0.          0.          0.          0.          0.          0.\n",
      "  0.          0.          0.          0.          0.          0.          0.\n",
      "  0.          0.          0.          0.          0.          0.\n",
      "  0.47152433  0.86477482  0.          0.          0.          2.5951829   0.\n",
      "  0.          0.          0.          0.          0.          0.\n",
      "  1.74855995  0.          0.          0.          0.          0.\n",
      "  3.80706739  0.          0.          1.81290567  0.          0.          0.\n",
      "  0.          0.          0.          0.          0.          0.          0.\n",
      "  0.          0.          0.          0.          3.49238133  0.          0.\n",
      "  1.65487242  0.          0.          0.          0.          0.          0.\n",
      "  0.          0.          0.          0.          0.          5.61731815\n",
      "  0.          0.          0.          0.          0.          0.\n",
      "  2.93710709  0.          0.          0.          0.          1.33282912\n",
      "  0.          1.16762841  0.          0.          0.          0.          0.\n",
      "  0.          0.          0.          3.99334025  0.          0.          0.\n",
      "  0.66666055  0.          0.          0.          0.          0.          0.\n",
      "  0.          0.          0.          0.          3.55250645  0.          0.\n",
      "  0.          0.          0.          0.          0.          0.          0.\n",
      "  0.          0.          0.          0.          0.          0.          0.\n",
      "  0.88959908  0.          0.          0.          0.          0.          0.\n",
      "  0.          0.          0.          0.          0.          3.34817457\n",
      "  0.          0.          0.          0.          0.          0.          0.\n",
      "  0.          0.          0.          0.          0.          0.          0.\n",
      "  0.          0.          0.          0.          0.          4.4147501   0.\n",
      "  0.          0.          0.          0.          0.          0.          0.\n",
      "  0.          0.          1.19059169  0.          0.29961979  0.          0.\n",
      "  0.          0.          0.          0.          0.          0.          0.\n",
      "  0.          0.          0.          0.          0.          0.\n",
      "  2.04605341  0.          0.          0.          0.          0.          0.\n",
      "  0.          0.          0.        ]\n"
     ]
    }
   ],
   "source": [
    "fp_embedder = Model(inputs=fp_model.input, outputs=fp_model.layers[-2].output)\n",
    "fp = fp_embedder.predict(X[0:1], batch_size=1000)\n",
    "\n",
    "print('Fingerprint:\\n', fp[0])"
   ]
  }
 ],
 "metadata": {
  "kernelspec": {
   "display_name": "tensorflow",
   "language": "python",
   "name": "tensorflow"
  },
  "language_info": {
   "codemirror_mode": {
    "name": "ipython",
    "version": 3
   },
   "file_extension": ".py",
   "mimetype": "text/x-python",
   "name": "python",
   "nbconvert_exporter": "python",
   "pygments_lexer": "ipython3",
   "version": "3.5.2"
  }
 },
 "nbformat": 4,
 "nbformat_minor": 2
}
