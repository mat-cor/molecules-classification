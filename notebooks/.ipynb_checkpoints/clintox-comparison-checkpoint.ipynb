{
 "cells": [
  {
   "cell_type": "markdown",
   "metadata": {},
   "source": [
    "### CNNFP and ECFP comparison on the ClinTox dataset\n",
    "\n",
    "The ClinTox dataset compares drugs approved by the FDA and drugs that have failed clinical trials for toxicity reasons. The dataset includes two classification tasks for 1491 drug compounds with known chemical structures: (1) clinical trial toxicity (or absence of toxicity) and (2) FDA approval status.\n",
    "\n",
    "For both tasks, Logistic Regression and Random Forest were evaluated, using as input CNNFP, ECFP and a fingerprint obtained as a concatenation of both."
   ]
  },
  {
   "cell_type": "code",
   "execution_count": 13,
   "metadata": {},
   "outputs": [
    {
     "name": "stdout",
     "output_type": "stream",
     "text": [
      "Columns of dataset: ['smiles','FDA_APPROVED','CT_TOX']\n",
      "Number of examples in dataset: 1484\n"
     ]
    }
   ],
   "source": [
    "import os\n",
    "import sys\n",
    "parent_path = os.path.abspath(os.path.join('..'))\n",
    "if parent_path not in sys.path:\n",
    "    sys.path.append(parent_path)\n",
    "import time\n",
    "import numpy as np\n",
    "import pickle\n",
    "\n",
    "import deepchem as dc\n",
    "from deepchem.utils.save import load_from_disk\n",
    "\n",
    "import tensorflow as tf\n",
    "\n",
    "from preprocess.smiles_embedder import get_cnn_fingerprint\n",
    "\n",
    "from keras.models import load_model, Model\n",
    "from keras.preprocessing.sequence import pad_sequences\n",
    "\n",
    "from sklearn.model_selection import cross_val_score\n",
    "from sklearn.linear_model import LogisticRegression\n",
    "from sklearn.ensemble import RandomForestClassifier\n",
    "\n",
    "\n",
    "dataset_file = \"../comparison/clintox.csv\"\n",
    "dataset = load_from_disk(dataset_file)\n",
    "pretty_columns = (\n",
    "    \"[\" + \",\".join([\"'%s'\" % column for column in dataset.columns.values]) + \"]\")\n",
    "print(\"Columns of dataset: %s\" % pretty_columns)\n",
    "print(\"Number of examples in dataset: %s\" % str(dataset.shape[0]))\n",
    "\n",
    "smiles_field = 'smiles'\n",
    "class_field = 'CT_TOX'"
   ]
  },
  {
   "cell_type": "code",
   "execution_count": 14,
   "metadata": {},
   "outputs": [
    {
     "name": "stdout",
     "output_type": "stream",
     "text": [
      "Embedding smiles...\n",
      "Embedding complete - 1.1613032817840576 seconds, 1484 smiles\n",
      "Loading raw samples now.\n",
      "shard_size: 8192\n",
      "About to start loading CSV from ../comparison/clintox.csv\n",
      "Loading shard 1 of size 8192.\n",
      "Featurizing sample 0\n",
      "Featurizing sample 1000\n",
      "TIMING: featurizing shard 0 took 2.391 s\n",
      "TIMING: dataset construction took 2.461 s\n",
      "Loading dataset from disk.\n",
      "\n",
      "LogReg, 10-fold CV on CNN fingerprint\n",
      "0.93 (+/- 0.05)\n",
      "LogReg, 10-fold CV on ECFP fingerprint\n",
      "0.72 (+/- 0.07)\n",
      "\n",
      "RF, 10-fold CV on CNN fingerprint\n",
      "0.94 (+/- 0.07)\n",
      "RF, 10-fold CV on ECFP fingerprint\n",
      "0.74 (+/- 0.11)\n",
      "\n",
      "LogReg, 10-fold CV on combined fingerprint\n",
      "0.95 (+/- 0.05)\n",
      "RF, 10-fold CV on combined fingerprint\n",
      "0.96 (+/- 0.05)\n"
     ]
    }
   ],
   "source": [
    "smiles = [m for m in dataset[smiles_field]]\n",
    "labels = [c for c in dataset[class_field]]\n",
    "\n",
    "# Embedding smiles\n",
    "fps = get_cnn_fingerprint(smiles)\n",
    "\n",
    "# 10-fold CV on CNN embedding\n",
    "rf = RandomForestClassifier(n_estimators=500)\n",
    "logreg = LogisticRegression()\n",
    "auc_lr_cnn = cross_val_score(logreg, fps, labels, cv=10, scoring='roc_auc', n_jobs=-1)\n",
    "auc_rf_cnn = cross_val_score(rf, fps, labels, cv=10, scoring='roc_auc', n_jobs=-1)\n",
    "\n",
    "# ECFP embedding using deepchem utilities\n",
    "featurizer_func = dc.feat.CircularFingerprint(size=512)\n",
    "loader = dc.data.CSVLoader(tasks=[class_field], smiles_field=smiles_field, id_field=smiles_field,\n",
    "                           featurizer=featurizer_func)\n",
    "dataset = loader.featurize(dataset_file)\n",
    "\n",
    "X = np.array(dataset.X)\n",
    "y = np.array(dataset.y, dtype=np.int32)\n",
    "y = y.reshape(y.shape[0],)\n",
    "\n",
    "# 10-fold CV on CNN embedding\n",
    "rf = RandomForestClassifier(n_estimators=500)\n",
    "logreg = LogisticRegression()\n",
    "auc_lr = cross_val_score(logreg, X, y, cv=10, scoring='roc_auc', n_jobs=-1)\n",
    "auc_rf = cross_val_score(rf, X, y, cv=10, scoring='roc_auc', n_jobs=-1)\n",
    "\n",
    "# Results\n",
    "print('\\nLogReg, 10-fold CV on CNN fingerprint')\n",
    "print(\"%.2f (+/- %.2f)\" % (auc_lr_cnn.mean(), auc_lr_cnn.std()))\n",
    "print('LogReg, 10-fold CV on ECFP fingerprint')\n",
    "print(\"%.2f (+/- %.2f)\" % (auc_lr.mean(), auc_lr.std()))\n",
    "\n",
    "print('\\nRF, 10-fold CV on CNN fingerprint')\n",
    "print(\"%.2f (+/- %.2f)\" % (auc_rf_cnn.mean(), auc_rf_cnn.std()))\n",
    "print('RF, 10-fold CV on ECFP fingerprint')\n",
    "print(\"%.2f (+/- %.2f)\" % (auc_rf.mean(), auc_rf.std()))\n",
    "\n",
    "# Combine features, CNNFP + ECFP\n",
    "valid_inds = [i for i, s in enumerate(smiles) if s in dataset.ids]\n",
    "\n",
    "fp_combo = [np.concatenate((c, e)) for c, e in zip(fps[valid_inds], X)]\n",
    "fp_combo = np.array(fp_combo)\n",
    "\n",
    "auc_lr_combo = cross_val_score(logreg, fp_combo, y, cv=10, scoring='roc_auc', n_jobs=-1)\n",
    "auc_rf_combo = cross_val_score(rf, fp_combo, y, cv=10, scoring='roc_auc', n_jobs=-1)\n",
    "\n",
    "print('\\nLogReg, 10-fold CV on combined fingerprint')\n",
    "print(\"%.2f (+/- %.2f)\" % (auc_lr_combo.mean(), auc_lr_combo.std()))\n",
    "print('RF, 10-fold CV on combined fingerprint')\n",
    "print(\"%.2f (+/- %.2f)\" % (auc_rf_combo.mean(), auc_rf_combo.std()))"
   ]
  },
  {
   "cell_type": "markdown",
   "metadata": {},
   "source": [
    "Complete results with comparisons on different datasets [here](https://docs.google.com/spreadsheets/d/1Pc8MnpoEmvonWnoFyi4lWyqYSCn7aNviDb8evSpfPBw/edit?usp=sharing)"
   ]
  }
 ],
 "metadata": {
  "kernelspec": {
   "display_name": "deepchem",
   "language": "python",
   "name": "deepchem"
  },
  "language_info": {
   "codemirror_mode": {
    "name": "ipython",
    "version": 3
   },
   "file_extension": ".py",
   "mimetype": "text/x-python",
   "name": "python",
   "nbconvert_exporter": "python",
   "pygments_lexer": "ipython3",
   "version": "3.5.4"
  }
 },
 "nbformat": 4,
 "nbformat_minor": 2
}
