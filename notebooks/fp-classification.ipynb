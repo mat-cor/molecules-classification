{
 "cells": [
  {
   "cell_type": "markdown",
   "metadata": {},
   "source": [
    "This is the code I used to run logistic regression classifier (one for each term) with fingerprints as input.\n",
    "Far now I runned it only with Morgan fingerprint, I tried also with rdk fingerprint but it's quite time-demanding (~25 secs per term, and we have ~200 terms). I'll be able to have the results tomorrow.\n",
    "However, the interesting thing is that the results I showed you last week, where the AUCs were very high, were certainly biased by the fact of having almost 5000 duplicated compounds, because now the AUC varies in a range between 0.3 and 0.7. The only way I could think for sharing the result was a Google Sheets, this is the link.\n",
    "\n",
    "https://docs.google.com/spreadsheets/d/1cPtmbVZ20AzrsAor_i1lvfAAOZgsG_aWVfeut5zsxk0/edit?usp=sharing\n",
    "\n",
    "(I think the notebook will not work due to the RDKit import, I will fix it if necessary)"
   ]
  },
  {
   "cell_type": "code",
   "execution_count": 2,
   "metadata": {},
   "outputs": [
    {
     "ename": "ModuleNotFoundError",
     "evalue": "No module named 'rdkit'",
     "output_type": "error",
     "traceback": [
      "\u001b[0;31m---------------------------------------------------------------------------\u001b[0m",
      "\u001b[0;31mModuleNotFoundError\u001b[0m                       Traceback (most recent call last)",
      "\u001b[0;32m<ipython-input-2-78b2e5baceeb>\u001b[0m in \u001b[0;36m<module>\u001b[0;34m()\u001b[0m\n\u001b[1;32m      3\u001b[0m \u001b[0;32mfrom\u001b[0m \u001b[0msklearn\u001b[0m\u001b[0;34m.\u001b[0m\u001b[0mmodel_selection\u001b[0m \u001b[0;32mimport\u001b[0m \u001b[0mcross_val_score\u001b[0m\u001b[0;34m\u001b[0m\u001b[0m\n\u001b[1;32m      4\u001b[0m \u001b[0;32mfrom\u001b[0m \u001b[0mchemicaldatapreprocess\u001b[0m\u001b[0;34m.\u001b[0m\u001b[0mload_data\u001b[0m \u001b[0;32mimport\u001b[0m \u001b[0mloadDataset\u001b[0m\u001b[0;34m\u001b[0m\u001b[0m\n\u001b[0;32m----> 5\u001b[0;31m \u001b[0;32mfrom\u001b[0m \u001b[0mfingerprintsanalysis\u001b[0m\u001b[0;34m.\u001b[0m\u001b[0mrdkutils\u001b[0m \u001b[0;32mimport\u001b[0m \u001b[0msmiles_list_fp\u001b[0m\u001b[0;34m\u001b[0m\u001b[0m\n\u001b[0m\u001b[1;32m      6\u001b[0m \u001b[0;34m\u001b[0m\u001b[0m\n\u001b[1;32m      7\u001b[0m \u001b[0;32mimport\u001b[0m \u001b[0mdatetime\u001b[0m\u001b[0;34m\u001b[0m\u001b[0m\n",
      "\u001b[0;32m~/molecules-classification/fingerprintsanalysis/rdkutils.py\u001b[0m in \u001b[0;36m<module>\u001b[0;34m()\u001b[0m\n\u001b[0;32m----> 1\u001b[0;31m \u001b[0;32mfrom\u001b[0m \u001b[0mrdkit\u001b[0m \u001b[0;32mimport\u001b[0m \u001b[0mChem\u001b[0m\u001b[0;34m\u001b[0m\u001b[0m\n\u001b[0m\u001b[1;32m      2\u001b[0m \u001b[0;32mfrom\u001b[0m \u001b[0mrdkit\u001b[0m\u001b[0;34m.\u001b[0m\u001b[0mChem\u001b[0m \u001b[0;32mimport\u001b[0m \u001b[0mAllChem\u001b[0m\u001b[0;34m\u001b[0m\u001b[0m\n\u001b[1;32m      3\u001b[0m \u001b[0;32mfrom\u001b[0m \u001b[0mrdkit\u001b[0m\u001b[0;34m.\u001b[0m\u001b[0mChem\u001b[0m\u001b[0;34m.\u001b[0m\u001b[0mrdmolops\u001b[0m \u001b[0;32mimport\u001b[0m \u001b[0mRDKFingerprint\u001b[0m\u001b[0;34m\u001b[0m\u001b[0m\n\u001b[1;32m      4\u001b[0m \u001b[0;32mimport\u001b[0m \u001b[0mnumpy\u001b[0m \u001b[0;32mas\u001b[0m \u001b[0mnp\u001b[0m\u001b[0;34m\u001b[0m\u001b[0m\n\u001b[1;32m      5\u001b[0m \u001b[0;34m\u001b[0m\u001b[0m\n",
      "\u001b[0;31mModuleNotFoundError\u001b[0m: No module named 'rdkit'"
     ]
    }
   ],
   "source": [
    "import numpy as np\n",
    "from sklearn.linear_model import LogisticRegression\n",
    "from sklearn.model_selection import cross_val_score\n",
    "from chemicaldatapreprocess.load_data import loadDataset\n",
    "from fingerprintsanalysis.rdkutils import smiles_list_fp\n",
    "\n",
    "import datetime\n",
    "\n",
    "cids, smiles, names, formulas, terms, treeids, tset = loadDataset('Dataset.tab')\n",
    "\n",
    "# X is a numpy matrix containing the fingerprints\n",
    "# bad_smiles is a list of the SMILES that rdkit wasn't able to convert (only 2 for morgan and rdk fingerprint)\n",
    "X, bad_smiles = smiles_list_fp(smiles, 2, 1024, 'morgan')\n",
    "\n",
    "#  Delete the rows related to chemicals with \"bad\" (=not-fingerprinted) SMILES\n",
    "inds = []\n",
    "for s in bad_smiles:\n",
    "    inds.append(smiles.index(s))\n",
    "\n",
    "for i in sorted(inds, reverse=True):  # Sorted in reverse order to be sure to not mess with indices\n",
    "    del terms[i]\n",
    "\n",
    "f = open('LR_auc_morgan1024.tab', 'w')\n",
    "f.write('Term\\tAUCmean\\tAUCstd\\n')\n",
    "k = 0\n",
    "\n",
    "# For each term, if it is present in the list of terms associated with the i-th chemical y[i] (target array)\n",
    "# is set to 1\n",
    "for term in tset:\n",
    "\n",
    "    k += 1\n",
    "    print(k)\n",
    "    print(datetime.datetime.now())\n",
    "\n",
    "    y = np.zeros(X.shape[0], dtype=int)\n",
    "\n",
    "    for t_list, i in zip(terms, range(len(terms))):\n",
    "        if term in t_list:\n",
    "            y[i] = 1\n",
    "\n",
    "    logreg = LogisticRegression()\n",
    "    auc = cross_val_score(logreg, X, y, cv=10, scoring='roc_auc', n_jobs=-1)\n",
    "\n",
    "    f.write('%s\\t%5.3f\\t%5.3f\\n' % (term, auc.mean(), auc.std()))\n",
    "    print(datetime.datetime.now())\n",
    "\n",
    "f.close()"
   ]
  }
 ],
 "metadata": {
  "kernelspec": {
   "display_name": "Python 3",
   "language": "python",
   "name": "python3"
  },
  "language_info": {
   "codemirror_mode": {
    "name": "ipython",
    "version": 3
   },
   "file_extension": ".py",
   "mimetype": "text/x-python",
   "name": "python",
   "nbconvert_exporter": "python",
   "pygments_lexer": "ipython3",
   "version": "3.6.2"
  }
 },
 "nbformat": 4,
 "nbformat_minor": 2
}
